{
 "cells": [
  {
   "cell_type": "code",
   "execution_count": 1,
   "metadata": {
    "collapsed": true
   },
   "outputs": [],
   "source": [
    "#Long Short Term Neural Net through Nervana's Neon package"
   ]
  },
  {
   "cell_type": "code",
   "execution_count": 2,
   "metadata": {
    "collapsed": true
   },
   "outputs": [],
   "source": [
    "import pandas as pd\n",
    "import numpy as np\n",
    "from sklearn.preprocessing import MinMaxScaler\n",
    "from sklearn.model_selection import train_test_split"
   ]
  },
  {
   "cell_type": "code",
   "execution_count": 3,
   "metadata": {},
   "outputs": [
    {
     "data": {
      "text/html": [
       "<div>\n",
       "<style>\n",
       "    .dataframe thead tr:only-child th {\n",
       "        text-align: right;\n",
       "    }\n",
       "\n",
       "    .dataframe thead th {\n",
       "        text-align: left;\n",
       "    }\n",
       "\n",
       "    .dataframe tbody tr th {\n",
       "        vertical-align: top;\n",
       "    }\n",
       "</style>\n",
       "<table border=\"1\" class=\"dataframe\">\n",
       "  <thead>\n",
       "    <tr style=\"text-align: right;\">\n",
       "      <th></th>\n",
       "      <th>Store</th>\n",
       "      <th>Date</th>\n",
       "      <th>Temperature</th>\n",
       "      <th>Fuel_Price</th>\n",
       "      <th>MarkDown1</th>\n",
       "      <th>MarkDown2</th>\n",
       "      <th>MarkDown3</th>\n",
       "      <th>MarkDown4</th>\n",
       "      <th>MarkDown5</th>\n",
       "      <th>CPI</th>\n",
       "      <th>Unemployment</th>\n",
       "      <th>IsHoliday</th>\n",
       "    </tr>\n",
       "  </thead>\n",
       "  <tbody>\n",
       "    <tr>\n",
       "      <th>0</th>\n",
       "      <td>1</td>\n",
       "      <td>2010-02-05</td>\n",
       "      <td>42.31</td>\n",
       "      <td>2.572</td>\n",
       "      <td>NaN</td>\n",
       "      <td>NaN</td>\n",
       "      <td>NaN</td>\n",
       "      <td>NaN</td>\n",
       "      <td>NaN</td>\n",
       "      <td>211.096358</td>\n",
       "      <td>8.106</td>\n",
       "      <td>False</td>\n",
       "    </tr>\n",
       "    <tr>\n",
       "      <th>1</th>\n",
       "      <td>1</td>\n",
       "      <td>2010-02-12</td>\n",
       "      <td>38.51</td>\n",
       "      <td>2.548</td>\n",
       "      <td>NaN</td>\n",
       "      <td>NaN</td>\n",
       "      <td>NaN</td>\n",
       "      <td>NaN</td>\n",
       "      <td>NaN</td>\n",
       "      <td>211.242170</td>\n",
       "      <td>8.106</td>\n",
       "      <td>True</td>\n",
       "    </tr>\n",
       "    <tr>\n",
       "      <th>2</th>\n",
       "      <td>1</td>\n",
       "      <td>2010-02-19</td>\n",
       "      <td>39.93</td>\n",
       "      <td>2.514</td>\n",
       "      <td>NaN</td>\n",
       "      <td>NaN</td>\n",
       "      <td>NaN</td>\n",
       "      <td>NaN</td>\n",
       "      <td>NaN</td>\n",
       "      <td>211.289143</td>\n",
       "      <td>8.106</td>\n",
       "      <td>False</td>\n",
       "    </tr>\n",
       "    <tr>\n",
       "      <th>3</th>\n",
       "      <td>1</td>\n",
       "      <td>2010-02-26</td>\n",
       "      <td>46.63</td>\n",
       "      <td>2.561</td>\n",
       "      <td>NaN</td>\n",
       "      <td>NaN</td>\n",
       "      <td>NaN</td>\n",
       "      <td>NaN</td>\n",
       "      <td>NaN</td>\n",
       "      <td>211.319643</td>\n",
       "      <td>8.106</td>\n",
       "      <td>False</td>\n",
       "    </tr>\n",
       "    <tr>\n",
       "      <th>4</th>\n",
       "      <td>1</td>\n",
       "      <td>2010-03-05</td>\n",
       "      <td>46.50</td>\n",
       "      <td>2.625</td>\n",
       "      <td>NaN</td>\n",
       "      <td>NaN</td>\n",
       "      <td>NaN</td>\n",
       "      <td>NaN</td>\n",
       "      <td>NaN</td>\n",
       "      <td>211.350143</td>\n",
       "      <td>8.106</td>\n",
       "      <td>False</td>\n",
       "    </tr>\n",
       "  </tbody>\n",
       "</table>\n",
       "</div>"
      ],
      "text/plain": [
       "   Store        Date  Temperature  Fuel_Price  MarkDown1  MarkDown2  \\\n",
       "0      1  2010-02-05        42.31       2.572        NaN        NaN   \n",
       "1      1  2010-02-12        38.51       2.548        NaN        NaN   \n",
       "2      1  2010-02-19        39.93       2.514        NaN        NaN   \n",
       "3      1  2010-02-26        46.63       2.561        NaN        NaN   \n",
       "4      1  2010-03-05        46.50       2.625        NaN        NaN   \n",
       "\n",
       "   MarkDown3  MarkDown4  MarkDown5         CPI  Unemployment  IsHoliday  \n",
       "0        NaN        NaN        NaN  211.096358         8.106      False  \n",
       "1        NaN        NaN        NaN  211.242170         8.106       True  \n",
       "2        NaN        NaN        NaN  211.289143         8.106      False  \n",
       "3        NaN        NaN        NaN  211.319643         8.106      False  \n",
       "4        NaN        NaN        NaN  211.350143         8.106      False  "
      ]
     },
     "execution_count": 3,
     "metadata": {},
     "output_type": "execute_result"
    }
   ],
   "source": [
    "features = pd.read_csv(\"~/Documents/Walmart Data/features.csv\")\n",
    "features.head()"
   ]
  },
  {
   "cell_type": "code",
   "execution_count": 4,
   "metadata": {},
   "outputs": [
    {
     "data": {
      "text/plain": [
       "(8190, 12)"
      ]
     },
     "execution_count": 4,
     "metadata": {},
     "output_type": "execute_result"
    }
   ],
   "source": [
    "features.shape"
   ]
  },
  {
   "cell_type": "code",
   "execution_count": 6,
   "metadata": {},
   "outputs": [
    {
     "data": {
      "text/html": [
       "<div>\n",
       "<style>\n",
       "    .dataframe thead tr:only-child th {\n",
       "        text-align: right;\n",
       "    }\n",
       "\n",
       "    .dataframe thead th {\n",
       "        text-align: left;\n",
       "    }\n",
       "\n",
       "    .dataframe tbody tr th {\n",
       "        vertical-align: top;\n",
       "    }\n",
       "</style>\n",
       "<table border=\"1\" class=\"dataframe\">\n",
       "  <thead>\n",
       "    <tr style=\"text-align: right;\">\n",
       "      <th></th>\n",
       "      <th>Store</th>\n",
       "      <th>Dept</th>\n",
       "      <th>Date</th>\n",
       "      <th>Weekly_Sales</th>\n",
       "      <th>IsHoliday</th>\n",
       "    </tr>\n",
       "  </thead>\n",
       "  <tbody>\n",
       "    <tr>\n",
       "      <th>0</th>\n",
       "      <td>1</td>\n",
       "      <td>1</td>\n",
       "      <td>2010-02-05</td>\n",
       "      <td>24924.50</td>\n",
       "      <td>False</td>\n",
       "    </tr>\n",
       "    <tr>\n",
       "      <th>1</th>\n",
       "      <td>1</td>\n",
       "      <td>1</td>\n",
       "      <td>2010-02-12</td>\n",
       "      <td>46039.49</td>\n",
       "      <td>True</td>\n",
       "    </tr>\n",
       "    <tr>\n",
       "      <th>2</th>\n",
       "      <td>1</td>\n",
       "      <td>1</td>\n",
       "      <td>2010-02-19</td>\n",
       "      <td>41595.55</td>\n",
       "      <td>False</td>\n",
       "    </tr>\n",
       "    <tr>\n",
       "      <th>3</th>\n",
       "      <td>1</td>\n",
       "      <td>1</td>\n",
       "      <td>2010-02-26</td>\n",
       "      <td>19403.54</td>\n",
       "      <td>False</td>\n",
       "    </tr>\n",
       "    <tr>\n",
       "      <th>4</th>\n",
       "      <td>1</td>\n",
       "      <td>1</td>\n",
       "      <td>2010-03-05</td>\n",
       "      <td>21827.90</td>\n",
       "      <td>False</td>\n",
       "    </tr>\n",
       "  </tbody>\n",
       "</table>\n",
       "</div>"
      ],
      "text/plain": [
       "   Store  Dept        Date  Weekly_Sales  IsHoliday\n",
       "0      1     1  2010-02-05      24924.50      False\n",
       "1      1     1  2010-02-12      46039.49       True\n",
       "2      1     1  2010-02-19      41595.55      False\n",
       "3      1     1  2010-02-26      19403.54      False\n",
       "4      1     1  2010-03-05      21827.90      False"
      ]
     },
     "execution_count": 6,
     "metadata": {},
     "output_type": "execute_result"
    }
   ],
   "source": [
    "pre_train = pd.read_csv(\"~/Documents/Walmart Data/train 2.csv\")\n",
    "pre_train.head()"
   ]
  },
  {
   "cell_type": "code",
   "execution_count": 7,
   "metadata": {},
   "outputs": [
    {
     "data": {
      "text/plain": [
       "(421570, 5)"
      ]
     },
     "execution_count": 7,
     "metadata": {},
     "output_type": "execute_result"
    }
   ],
   "source": [
    "pre_train.shape"
   ]
  },
  {
   "cell_type": "code",
   "execution_count": 8,
   "metadata": {},
   "outputs": [
    {
     "data": {
      "text/html": [
       "<div>\n",
       "<style>\n",
       "    .dataframe thead tr:only-child th {\n",
       "        text-align: right;\n",
       "    }\n",
       "\n",
       "    .dataframe thead th {\n",
       "        text-align: left;\n",
       "    }\n",
       "\n",
       "    .dataframe tbody tr th {\n",
       "        vertical-align: top;\n",
       "    }\n",
       "</style>\n",
       "<table border=\"1\" class=\"dataframe\">\n",
       "  <thead>\n",
       "    <tr style=\"text-align: right;\">\n",
       "      <th></th>\n",
       "      <th>Store</th>\n",
       "      <th>Type</th>\n",
       "      <th>Size</th>\n",
       "    </tr>\n",
       "  </thead>\n",
       "  <tbody>\n",
       "    <tr>\n",
       "      <th>0</th>\n",
       "      <td>1</td>\n",
       "      <td>A</td>\n",
       "      <td>151315</td>\n",
       "    </tr>\n",
       "    <tr>\n",
       "      <th>1</th>\n",
       "      <td>2</td>\n",
       "      <td>A</td>\n",
       "      <td>202307</td>\n",
       "    </tr>\n",
       "    <tr>\n",
       "      <th>2</th>\n",
       "      <td>3</td>\n",
       "      <td>B</td>\n",
       "      <td>37392</td>\n",
       "    </tr>\n",
       "    <tr>\n",
       "      <th>3</th>\n",
       "      <td>4</td>\n",
       "      <td>A</td>\n",
       "      <td>205863</td>\n",
       "    </tr>\n",
       "    <tr>\n",
       "      <th>4</th>\n",
       "      <td>5</td>\n",
       "      <td>B</td>\n",
       "      <td>34875</td>\n",
       "    </tr>\n",
       "  </tbody>\n",
       "</table>\n",
       "</div>"
      ],
      "text/plain": [
       "   Store Type    Size\n",
       "0      1    A  151315\n",
       "1      2    A  202307\n",
       "2      3    B   37392\n",
       "3      4    A  205863\n",
       "4      5    B   34875"
      ]
     },
     "execution_count": 8,
     "metadata": {},
     "output_type": "execute_result"
    }
   ],
   "source": [
    "stores = pd.read_csv(\"~/Documents/Walmart Data/stores.csv\")\n",
    "stores.head()"
   ]
  },
  {
   "cell_type": "code",
   "execution_count": 9,
   "metadata": {},
   "outputs": [
    {
     "data": {
      "text/plain": [
       "(45, 3)"
      ]
     },
     "execution_count": 9,
     "metadata": {},
     "output_type": "execute_result"
    }
   ],
   "source": [
    "stores.shape"
   ]
  },
  {
   "cell_type": "code",
   "execution_count": 10,
   "metadata": {},
   "outputs": [
    {
     "data": {
      "text/html": [
       "<div>\n",
       "<style>\n",
       "    .dataframe thead tr:only-child th {\n",
       "        text-align: right;\n",
       "    }\n",
       "\n",
       "    .dataframe thead th {\n",
       "        text-align: left;\n",
       "    }\n",
       "\n",
       "    .dataframe tbody tr th {\n",
       "        vertical-align: top;\n",
       "    }\n",
       "</style>\n",
       "<table border=\"1\" class=\"dataframe\">\n",
       "  <thead>\n",
       "    <tr style=\"text-align: right;\">\n",
       "      <th></th>\n",
       "      <th>Store</th>\n",
       "      <th>Dept</th>\n",
       "      <th>Date</th>\n",
       "      <th>Weekly_Sales</th>\n",
       "      <th>IsHoliday_x</th>\n",
       "      <th>Temperature</th>\n",
       "      <th>Fuel_Price</th>\n",
       "      <th>MarkDown1</th>\n",
       "      <th>MarkDown2</th>\n",
       "      <th>MarkDown3</th>\n",
       "      <th>MarkDown4</th>\n",
       "      <th>MarkDown5</th>\n",
       "      <th>CPI</th>\n",
       "      <th>Unemployment</th>\n",
       "      <th>Size</th>\n",
       "    </tr>\n",
       "  </thead>\n",
       "  <tbody>\n",
       "    <tr>\n",
       "      <th>0</th>\n",
       "      <td>1</td>\n",
       "      <td>1</td>\n",
       "      <td>2010-02-05</td>\n",
       "      <td>24924.50</td>\n",
       "      <td>False</td>\n",
       "      <td>42.31</td>\n",
       "      <td>2.572</td>\n",
       "      <td>5347.45</td>\n",
       "      <td>192.0</td>\n",
       "      <td>24.6</td>\n",
       "      <td>1481.31</td>\n",
       "      <td>3359.45</td>\n",
       "      <td>211.096358</td>\n",
       "      <td>8.106</td>\n",
       "      <td>151315</td>\n",
       "    </tr>\n",
       "    <tr>\n",
       "      <th>1</th>\n",
       "      <td>1</td>\n",
       "      <td>1</td>\n",
       "      <td>2010-02-12</td>\n",
       "      <td>46039.49</td>\n",
       "      <td>True</td>\n",
       "      <td>38.51</td>\n",
       "      <td>2.548</td>\n",
       "      <td>5347.45</td>\n",
       "      <td>192.0</td>\n",
       "      <td>24.6</td>\n",
       "      <td>1481.31</td>\n",
       "      <td>3359.45</td>\n",
       "      <td>211.242170</td>\n",
       "      <td>8.106</td>\n",
       "      <td>151315</td>\n",
       "    </tr>\n",
       "    <tr>\n",
       "      <th>2</th>\n",
       "      <td>1</td>\n",
       "      <td>1</td>\n",
       "      <td>2010-02-19</td>\n",
       "      <td>41595.55</td>\n",
       "      <td>False</td>\n",
       "      <td>39.93</td>\n",
       "      <td>2.514</td>\n",
       "      <td>5347.45</td>\n",
       "      <td>192.0</td>\n",
       "      <td>24.6</td>\n",
       "      <td>1481.31</td>\n",
       "      <td>3359.45</td>\n",
       "      <td>211.289143</td>\n",
       "      <td>8.106</td>\n",
       "      <td>151315</td>\n",
       "    </tr>\n",
       "    <tr>\n",
       "      <th>3</th>\n",
       "      <td>1</td>\n",
       "      <td>1</td>\n",
       "      <td>2010-02-26</td>\n",
       "      <td>19403.54</td>\n",
       "      <td>False</td>\n",
       "      <td>46.63</td>\n",
       "      <td>2.561</td>\n",
       "      <td>5347.45</td>\n",
       "      <td>192.0</td>\n",
       "      <td>24.6</td>\n",
       "      <td>1481.31</td>\n",
       "      <td>3359.45</td>\n",
       "      <td>211.319643</td>\n",
       "      <td>8.106</td>\n",
       "      <td>151315</td>\n",
       "    </tr>\n",
       "    <tr>\n",
       "      <th>4</th>\n",
       "      <td>1</td>\n",
       "      <td>1</td>\n",
       "      <td>2010-03-05</td>\n",
       "      <td>21827.90</td>\n",
       "      <td>False</td>\n",
       "      <td>46.50</td>\n",
       "      <td>2.625</td>\n",
       "      <td>5347.45</td>\n",
       "      <td>192.0</td>\n",
       "      <td>24.6</td>\n",
       "      <td>1481.31</td>\n",
       "      <td>3359.45</td>\n",
       "      <td>211.350143</td>\n",
       "      <td>8.106</td>\n",
       "      <td>151315</td>\n",
       "    </tr>\n",
       "  </tbody>\n",
       "</table>\n",
       "</div>"
      ],
      "text/plain": [
       "   Store  Dept       Date  Weekly_Sales  IsHoliday_x  Temperature  Fuel_Price  \\\n",
       "0      1     1 2010-02-05      24924.50        False        42.31       2.572   \n",
       "1      1     1 2010-02-12      46039.49         True        38.51       2.548   \n",
       "2      1     1 2010-02-19      41595.55        False        39.93       2.514   \n",
       "3      1     1 2010-02-26      19403.54        False        46.63       2.561   \n",
       "4      1     1 2010-03-05      21827.90        False        46.50       2.625   \n",
       "\n",
       "   MarkDown1  MarkDown2  MarkDown3  MarkDown4  MarkDown5         CPI  \\\n",
       "0    5347.45      192.0       24.6    1481.31    3359.45  211.096358   \n",
       "1    5347.45      192.0       24.6    1481.31    3359.45  211.242170   \n",
       "2    5347.45      192.0       24.6    1481.31    3359.45  211.289143   \n",
       "3    5347.45      192.0       24.6    1481.31    3359.45  211.319643   \n",
       "4    5347.45      192.0       24.6    1481.31    3359.45  211.350143   \n",
       "\n",
       "   Unemployment    Size  \n",
       "0         8.106  151315  \n",
       "1         8.106  151315  \n",
       "2         8.106  151315  \n",
       "3         8.106  151315  \n",
       "4         8.106  151315  "
      ]
     },
     "execution_count": 10,
     "metadata": {},
     "output_type": "execute_result"
    }
   ],
   "source": [
    "true_train = pd.merge(pd.merge(pre_train, features, how = 'left',\n",
    "                               left_on = ['Store', 'Date'], right_on = ['Store', 'Date']), \n",
    "                      stores, left_on = ['Store'], right_on = ['Store'])\n",
    "true_train['Date'] = pd.to_datetime(true_train['Date'])\n",
    "true_train = true_train.drop(['IsHoliday_y', 'Type'], 1)\n",
    "true_train = true_train.fillna(true_train.median())\n",
    "true_train.head()"
   ]
  },
  {
   "cell_type": "code",
   "execution_count": 11,
   "metadata": {},
   "outputs": [
    {
     "data": {
      "text/plain": [
       "(421570, 15)"
      ]
     },
     "execution_count": 11,
     "metadata": {},
     "output_type": "execute_result"
    }
   ],
   "source": [
    "true_train.shape"
   ]
  },
  {
   "cell_type": "code",
   "execution_count": 12,
   "metadata": {},
   "outputs": [
    {
     "data": {
      "text/html": [
       "<div>\n",
       "<style>\n",
       "    .dataframe thead tr:only-child th {\n",
       "        text-align: right;\n",
       "    }\n",
       "\n",
       "    .dataframe thead th {\n",
       "        text-align: left;\n",
       "    }\n",
       "\n",
       "    .dataframe tbody tr th {\n",
       "        vertical-align: top;\n",
       "    }\n",
       "</style>\n",
       "<table border=\"1\" class=\"dataframe\">\n",
       "  <thead>\n",
       "    <tr style=\"text-align: right;\">\n",
       "      <th></th>\n",
       "      <th>Store</th>\n",
       "      <th>Dept</th>\n",
       "      <th>Weekly_Sales</th>\n",
       "      <th>IsHoliday_x</th>\n",
       "      <th>Temperature</th>\n",
       "      <th>Fuel_Price</th>\n",
       "      <th>MarkDown1</th>\n",
       "      <th>MarkDown2</th>\n",
       "      <th>MarkDown3</th>\n",
       "      <th>MarkDown4</th>\n",
       "      <th>MarkDown5</th>\n",
       "      <th>CPI</th>\n",
       "      <th>Unemployment</th>\n",
       "      <th>Size</th>\n",
       "    </tr>\n",
       "    <tr>\n",
       "      <th>Date</th>\n",
       "      <th></th>\n",
       "      <th></th>\n",
       "      <th></th>\n",
       "      <th></th>\n",
       "      <th></th>\n",
       "      <th></th>\n",
       "      <th></th>\n",
       "      <th></th>\n",
       "      <th></th>\n",
       "      <th></th>\n",
       "      <th></th>\n",
       "      <th></th>\n",
       "      <th></th>\n",
       "      <th></th>\n",
       "    </tr>\n",
       "  </thead>\n",
       "  <tbody>\n",
       "    <tr>\n",
       "      <th>2010-02-05</th>\n",
       "      <td>1</td>\n",
       "      <td>1</td>\n",
       "      <td>24924.50</td>\n",
       "      <td>0</td>\n",
       "      <td>42.31</td>\n",
       "      <td>2.572</td>\n",
       "      <td>5347.45</td>\n",
       "      <td>192.0</td>\n",
       "      <td>24.6</td>\n",
       "      <td>1481.31</td>\n",
       "      <td>3359.45</td>\n",
       "      <td>211.096358</td>\n",
       "      <td>8.106</td>\n",
       "      <td>151315</td>\n",
       "    </tr>\n",
       "    <tr>\n",
       "      <th>2010-02-05</th>\n",
       "      <td>29</td>\n",
       "      <td>5</td>\n",
       "      <td>15552.08</td>\n",
       "      <td>0</td>\n",
       "      <td>24.36</td>\n",
       "      <td>2.788</td>\n",
       "      <td>5347.45</td>\n",
       "      <td>192.0</td>\n",
       "      <td>24.6</td>\n",
       "      <td>1481.31</td>\n",
       "      <td>3359.45</td>\n",
       "      <td>131.527903</td>\n",
       "      <td>10.064</td>\n",
       "      <td>93638</td>\n",
       "    </tr>\n",
       "    <tr>\n",
       "      <th>2010-02-05</th>\n",
       "      <td>29</td>\n",
       "      <td>6</td>\n",
       "      <td>3200.22</td>\n",
       "      <td>0</td>\n",
       "      <td>24.36</td>\n",
       "      <td>2.788</td>\n",
       "      <td>5347.45</td>\n",
       "      <td>192.0</td>\n",
       "      <td>24.6</td>\n",
       "      <td>1481.31</td>\n",
       "      <td>3359.45</td>\n",
       "      <td>131.527903</td>\n",
       "      <td>10.064</td>\n",
       "      <td>93638</td>\n",
       "    </tr>\n",
       "    <tr>\n",
       "      <th>2010-02-05</th>\n",
       "      <td>29</td>\n",
       "      <td>7</td>\n",
       "      <td>10820.05</td>\n",
       "      <td>0</td>\n",
       "      <td>24.36</td>\n",
       "      <td>2.788</td>\n",
       "      <td>5347.45</td>\n",
       "      <td>192.0</td>\n",
       "      <td>24.6</td>\n",
       "      <td>1481.31</td>\n",
       "      <td>3359.45</td>\n",
       "      <td>131.527903</td>\n",
       "      <td>10.064</td>\n",
       "      <td>93638</td>\n",
       "    </tr>\n",
       "    <tr>\n",
       "      <th>2010-02-05</th>\n",
       "      <td>29</td>\n",
       "      <td>8</td>\n",
       "      <td>20055.64</td>\n",
       "      <td>0</td>\n",
       "      <td>24.36</td>\n",
       "      <td>2.788</td>\n",
       "      <td>5347.45</td>\n",
       "      <td>192.0</td>\n",
       "      <td>24.6</td>\n",
       "      <td>1481.31</td>\n",
       "      <td>3359.45</td>\n",
       "      <td>131.527903</td>\n",
       "      <td>10.064</td>\n",
       "      <td>93638</td>\n",
       "    </tr>\n",
       "  </tbody>\n",
       "</table>\n",
       "</div>"
      ],
      "text/plain": [
       "            Store  Dept  Weekly_Sales  IsHoliday_x  Temperature  Fuel_Price  \\\n",
       "Date                                                                          \n",
       "2010-02-05      1     1      24924.50            0        42.31       2.572   \n",
       "2010-02-05     29     5      15552.08            0        24.36       2.788   \n",
       "2010-02-05     29     6       3200.22            0        24.36       2.788   \n",
       "2010-02-05     29     7      10820.05            0        24.36       2.788   \n",
       "2010-02-05     29     8      20055.64            0        24.36       2.788   \n",
       "\n",
       "            MarkDown1  MarkDown2  MarkDown3  MarkDown4  MarkDown5         CPI  \\\n",
       "Date                                                                            \n",
       "2010-02-05    5347.45      192.0       24.6    1481.31    3359.45  211.096358   \n",
       "2010-02-05    5347.45      192.0       24.6    1481.31    3359.45  131.527903   \n",
       "2010-02-05    5347.45      192.0       24.6    1481.31    3359.45  131.527903   \n",
       "2010-02-05    5347.45      192.0       24.6    1481.31    3359.45  131.527903   \n",
       "2010-02-05    5347.45      192.0       24.6    1481.31    3359.45  131.527903   \n",
       "\n",
       "            Unemployment    Size  \n",
       "Date                              \n",
       "2010-02-05         8.106  151315  \n",
       "2010-02-05        10.064   93638  \n",
       "2010-02-05        10.064   93638  \n",
       "2010-02-05        10.064   93638  \n",
       "2010-02-05        10.064   93638  "
      ]
     },
     "execution_count": 12,
     "metadata": {},
     "output_type": "execute_result"
    }
   ],
   "source": [
    "true_train['IsHoliday_x'] = true_train['IsHoliday_x'].astype(int) #Convert IsHolidayX to a boolean\n",
    "true_train2 = true_train.sort_values('Date')\n",
    "true_train2 = true_train2.set_index(true_train2['Date'])\n",
    "true_train2 = true_train2.drop('Date',1)\n",
    "true_train2.head()"
   ]
  },
  {
   "cell_type": "code",
   "execution_count": 13,
   "metadata": {
    "collapsed": true
   },
   "outputs": [],
   "source": [
    "def timeseries_to_supervised(data, lag=1):\n",
    "    df = pd.DataFrame(data)\n",
    "    columns = [df.shift(i) for i in range(1, lag+1)]\n",
    "    columns.append(df)\n",
    "    df = pd.concat(columns, axis=1)\n",
    "    df.fillna(0, inplace=True)\n",
    "    return df"
   ]
  },
  {
   "cell_type": "code",
   "execution_count": 15,
   "metadata": {
    "collapsed": true
   },
   "outputs": [],
   "source": [
    "values = true_train2.values\n",
    "\n",
    "values = values.astype('float32')\n",
    "# normalize features\n",
    "scaler = MinMaxScaler(feature_range=(-1, 1))\n",
    "scaled = scaler.fit_transform(values)\n",
    "# frame as supervised learning\n",
    "reframed = timeseries_to_supervised(scaled, 1)"
   ]
  },
  {
   "cell_type": "code",
   "execution_count": 16,
   "metadata": {},
   "outputs": [
    {
     "name": "stderr",
     "output_type": "stream",
     "text": [
      "/Library/anaconda/lib/python3.6/site-packages/ipykernel_launcher.py:8: SettingWithCopyWarning: \n",
      "A value is trying to be set on a copy of a slice from a DataFrame\n",
      "\n",
      "See the caveats in the documentation: http://pandas.pydata.org/pandas-docs/stable/indexing.html#indexing-view-versus-copy\n",
      "  \n",
      "/Library/anaconda/lib/python3.6/site-packages/ipykernel_launcher.py:9: SettingWithCopyWarning: \n",
      "A value is trying to be set on a copy of a slice from a DataFrame\n",
      "\n",
      "See the caveats in the documentation: http://pandas.pydata.org/pandas-docs/stable/indexing.html#indexing-view-versus-copy\n",
      "  if __name__ == '__main__':\n"
     ]
    }
   ],
   "source": [
    "#reframed.drop(reframed.columns[[14,15,17,18,19,20,21,22,23,24,25,26,27]], axis=1, inplace=True)\n",
    "#msk = np.random.rand(len(reframed)) < 0.985\n",
    "n = 415000\n",
    "train = reframed.iloc[range(n),:]\n",
    "test = reframed.iloc[range(n, reframed.shape[0]),:]\n",
    "train_y = scaler.inverse_transform(scaled)[range(n),2:3]\n",
    "test_y = scaler.inverse_transform(scaled)[range(n, reframed.shape[0]),2:3]\n",
    "train.drop(train.columns[[2,16]], axis = 1, inplace = True)\n",
    "test.drop(test.columns[[2,16]], axis = 1, inplace = True)"
   ]
  },
  {
   "cell_type": "code",
   "execution_count": 17,
   "metadata": {},
   "outputs": [
    {
     "data": {
      "text/plain": [
       "array([[ 10155.18847656],\n",
       "       [  2725.24316406],\n",
       "       [ 27931.28710938],\n",
       "       ..., \n",
       "       [  3128.16699219],\n",
       "       [  5740.14941406],\n",
       "       [  1076.80725098]], dtype=float32)"
      ]
     },
     "execution_count": 17,
     "metadata": {},
     "output_type": "execute_result"
    }
   ],
   "source": [
    "test_y"
   ]
  },
  {
   "cell_type": "code",
   "execution_count": 18,
   "metadata": {},
   "outputs": [
    {
     "data": {
      "text/plain": [
       "<neon.backends.nervanacpu.NervanaCPU at 0x11c0ddda0>"
      ]
     },
     "execution_count": 18,
     "metadata": {},
     "output_type": "execute_result"
    }
   ],
   "source": [
    "from neon.data import ArrayIterator\n",
    "from neon.backends import gen_backend\n",
    "gen_backend(backend='cpu', batch_size=128)"
   ]
  },
  {
   "cell_type": "code",
   "execution_count": 19,
   "metadata": {
    "collapsed": true
   },
   "outputs": [],
   "source": [
    "#make_onehot makes all our y_labels suitable for classification\n",
    "train_neon = ArrayIterator(X=train, y=train_y, make_onehot=False)\n",
    "test_neon = ArrayIterator(X = test, y = test_y, make_onehot = False)"
   ]
  },
  {
   "cell_type": "code",
   "execution_count": 20,
   "metadata": {
    "collapsed": true
   },
   "outputs": [],
   "source": [
    "from neon.initializers import Uniform\n",
    "init_uniform = Uniform()"
   ]
  },
  {
   "cell_type": "code",
   "execution_count": 21,
   "metadata": {
    "collapsed": true
   },
   "outputs": [],
   "source": [
    "from neon.layers import LSTM, Affine, Dropout, LookupTable, RecurrentLast\n",
    "from neon.transforms import Logistic, Tanh, Identity, MeanSquared\n",
    "from neon.models import Model\n",
    "layers = [\n",
    "    LSTM(output_size=128, init=init_uniform, activation=Identity(),\n",
    "         gate_activation=Identity(), reset_cells=True),\n",
    "    RecurrentLast(),\n",
    "    Affine(1, init_uniform, bias=init_uniform, activation=Identity())]\n",
    "\n",
    "model = Model(layers = layers)"
   ]
  },
  {
   "cell_type": "code",
   "execution_count": 22,
   "metadata": {},
   "outputs": [
    {
     "name": "stdout",
     "output_type": "stream",
     "text": [
      "Epoch 0   [Train |████████████████████| 3243/3243 batches, 252626560.00 cost, 26.37s]  [MeanSquared Loss 219535872.00, 0.20s]\n",
      "Epoch 1   [Train |████████████████████| 3242/3242 batches, 246647648.00 cost, 25.82s]  [MeanSquared Loss 213379008.00, 0.13s]\n",
      "Epoch 2   [Train |████████████████████| 3242/3242 batches, 244690640.00 cost, 35.10s]  [MeanSquared Loss 211511840.00, 0.13s]\n",
      "Epoch 3   [Train |████████████████████| 3242/3242 batches, 240022400.00 cost, 31.17s] [MeanSquared Loss 210681408.00, 0.24s]\n",
      "Epoch 4   [Train |████████████████████| 3242/3242 batches, 239766832.00 cost, 29.01s] [MeanSquared Loss 210099184.00, 0.14s]\n",
      "Epoch 5   [Train |████████████████████| 3243/3243 batches, 244276640.00 cost, 32.38s]  [MeanSquared Loss 209627824.00, 0.10s]\n",
      "Epoch 6   [Train |████████████████████| 3242/3242 batches, 241277440.00 cost, 29.32s]  [MeanSquared Loss 209226064.00, 0.19s]\n",
      "Epoch 7   [Train |████████████████████| 3242/3242 batches, 239269664.00 cost, 31.39s]  [MeanSquared Loss 208873728.00, 0.16s]\n",
      "Epoch 8   [Train |████████████████████| 3242/3242 batches, 234798640.00 cost, 28.01s] [MeanSquared Loss 208541184.00, 0.10s]\n",
      "Epoch 9   [Train |████████████████████| 3242/3242 batches, 235558960.00 cost, 26.24s] [MeanSquared Loss 208198688.00, 0.12s]\n",
      "Epoch 10  [Train |████████████████████| 3243/3243 batches, 242742656.00 cost, 25.37s] [MeanSquared Loss 207826624.00, 0.12s]\n",
      "Epoch 11  [Train |████████████████████| 3242/3242 batches, 239253344.00 cost, 31.09s]  [MeanSquared Loss 207373936.00, 0.10s]\n",
      "Epoch 12  [Train |████████████████████| 3242/3242 batches, 234775040.00 cost, 28.53s] [MeanSquared Loss 206817632.00, 0.11s]\n",
      "Epoch 13  [Train |████████████████████| 3242/3242 batches, 235967136.00 cost, 29.36s]  [MeanSquared Loss 206126256.00, 0.12s]\n",
      "Epoch 14  [Train |████████████████████| 3242/3242 batches, 231302272.00 cost, 28.03s] [MeanSquared Loss 205283136.00, 0.16s]\n",
      "Epoch 15  [Train |████████████████████| 3242/3242 batches, 232554448.00 cost, 29.10s] [MeanSquared Loss 204318160.00, 0.17s]\n",
      "Epoch 16  [Train |████████████████████| 3242/3242 batches, 231338064.00 cost, 30.54s]  [MeanSquared Loss 203244928.00, 0.14s]\n",
      "Epoch 17  [Train |████████████████████| 3242/3242 batches, 230075776.00 cost, 28.95s] [MeanSquared Loss 202075504.00, 0.13s]\n",
      "Epoch 18  [Train |████████████████████| 3242/3242 batches, 228770256.00 cost, 32.16s]  [MeanSquared Loss 200815104.00, 0.15s]\n",
      "Epoch 19  [Train |████████████████████| 3242/3242 batches, 227420704.00 cost, 33.84s]  [MeanSquared Loss 199469696.00, 0.15s]\n",
      "Epoch 20  [Train |████████████████████| 3242/3242 batches, 226030384.00 cost, 30.52s]  [MeanSquared Loss 198049984.00, 0.19s]\n",
      "Epoch 21  [Train |████████████████████| 3242/3242 batches, 224610528.00 cost, 30.52s] [MeanSquared Loss 196574128.00, 0.12s]\n",
      "Epoch 22  [Train |████████████████████| 3242/3242 batches, 223181088.00 cost, 21.97s] [MeanSquared Loss 195068288.00, 0.12s]\n",
      "Epoch 23  [Train |████████████████████| 3242/3242 batches, 221768544.00 cost, 21.58s] [MeanSquared Loss 193564544.00, 0.10s]\n",
      "Epoch 24  [Train |████████████████████| 3242/3242 batches, 220402272.00 cost, 21.90s]  [MeanSquared Loss 192096384.00, 0.12s]\n"
     ]
    }
   ],
   "source": [
    "from neon.layers import GeneralizedCost\n",
    "from neon.optimizers import Adagrad\n",
    "from neon.callbacks import Callbacks\n",
    "\n",
    "callbacks = Callbacks(model, eval_set=test_neon, eval_freq = 1)\n",
    "cost = GeneralizedCost(costfunc=MeanSquared())\n",
    "optimizer = Adagrad(learning_rate=0.01)\n",
    "\n",
    "model.fit(train_neon,\n",
    "          optimizer=optimizer,\n",
    "          num_epochs=25,\n",
    "          cost=cost,\n",
    "          callbacks = callbacks)"
   ]
  },
  {
   "cell_type": "code",
   "execution_count": 23,
   "metadata": {
    "collapsed": true
   },
   "outputs": [],
   "source": [
    "from sklearn.metrics import mean_squared_error\n",
    "import math"
   ]
  },
  {
   "cell_type": "code",
   "execution_count": 24,
   "metadata": {},
   "outputs": [
    {
     "name": "stdout",
     "output_type": "stream",
     "text": [
      "Test RMSE 19600.835\n",
      "Test NRMSE  1.649\n"
     ]
    }
   ],
   "source": [
    "train_output = model.get_outputs(test_neon)\n",
    "rmse = math.sqrt(mean_squared_error(train_output, test_y))\n",
    "nrmse = rmse/np.mean(values)\n",
    "print('Test RMSE %.3f' % rmse)\n",
    "print('Test NRMSE % .3f' % nrmse)"
   ]
  },
  {
   "cell_type": "code",
   "execution_count": 25,
   "metadata": {},
   "outputs": [
    {
     "name": "stdout",
     "output_type": "stream",
     "text": [
      "Test RMSE 21035.398\n",
      "Test NRMSE  1.769\n"
     ]
    }
   ],
   "source": [
    "train_output = model.get_outputs(train_neon)\n",
    "rmse = math.sqrt(mean_squared_error(train_output, train_y))\n",
    "nrmse = rmse/np.mean(values)\n",
    "print('Test RMSE %.3f' % rmse)\n",
    "print('Test NRMSE % .3f' % nrmse)"
   ]
  },
  {
   "cell_type": "code",
   "execution_count": 26,
   "metadata": {
    "collapsed": true
   },
   "outputs": [],
   "source": [
    "#Setting Up Data for Predictions"
   ]
  },
  {
   "cell_type": "code",
   "execution_count": 27,
   "metadata": {},
   "outputs": [
    {
     "data": {
      "text/html": [
       "<div>\n",
       "<style>\n",
       "    .dataframe thead tr:only-child th {\n",
       "        text-align: right;\n",
       "    }\n",
       "\n",
       "    .dataframe thead th {\n",
       "        text-align: left;\n",
       "    }\n",
       "\n",
       "    .dataframe tbody tr th {\n",
       "        vertical-align: top;\n",
       "    }\n",
       "</style>\n",
       "<table border=\"1\" class=\"dataframe\">\n",
       "  <thead>\n",
       "    <tr style=\"text-align: right;\">\n",
       "      <th></th>\n",
       "      <th>Store</th>\n",
       "      <th>Dept</th>\n",
       "      <th>Date</th>\n",
       "      <th>IsHoliday</th>\n",
       "    </tr>\n",
       "  </thead>\n",
       "  <tbody>\n",
       "    <tr>\n",
       "      <th>0</th>\n",
       "      <td>1</td>\n",
       "      <td>1</td>\n",
       "      <td>2012-11-02</td>\n",
       "      <td>False</td>\n",
       "    </tr>\n",
       "    <tr>\n",
       "      <th>1</th>\n",
       "      <td>1</td>\n",
       "      <td>1</td>\n",
       "      <td>2012-11-09</td>\n",
       "      <td>False</td>\n",
       "    </tr>\n",
       "    <tr>\n",
       "      <th>2</th>\n",
       "      <td>1</td>\n",
       "      <td>1</td>\n",
       "      <td>2012-11-16</td>\n",
       "      <td>False</td>\n",
       "    </tr>\n",
       "    <tr>\n",
       "      <th>3</th>\n",
       "      <td>1</td>\n",
       "      <td>1</td>\n",
       "      <td>2012-11-23</td>\n",
       "      <td>True</td>\n",
       "    </tr>\n",
       "    <tr>\n",
       "      <th>4</th>\n",
       "      <td>1</td>\n",
       "      <td>1</td>\n",
       "      <td>2012-11-30</td>\n",
       "      <td>False</td>\n",
       "    </tr>\n",
       "  </tbody>\n",
       "</table>\n",
       "</div>"
      ],
      "text/plain": [
       "   Store  Dept        Date  IsHoliday\n",
       "0      1     1  2012-11-02      False\n",
       "1      1     1  2012-11-09      False\n",
       "2      1     1  2012-11-16      False\n",
       "3      1     1  2012-11-23       True\n",
       "4      1     1  2012-11-30      False"
      ]
     },
     "execution_count": 27,
     "metadata": {},
     "output_type": "execute_result"
    }
   ],
   "source": [
    "pre_test = pd.read_csv(\"~/Documents/Walmart Data/test 2.csv\")\n",
    "pre_test.head()"
   ]
  },
  {
   "cell_type": "code",
   "execution_count": 28,
   "metadata": {},
   "outputs": [
    {
     "data": {
      "text/plain": [
       "(115064, 4)"
      ]
     },
     "execution_count": 28,
     "metadata": {},
     "output_type": "execute_result"
    }
   ],
   "source": [
    "pre_test.shape"
   ]
  },
  {
   "cell_type": "code",
   "execution_count": 29,
   "metadata": {},
   "outputs": [
    {
     "data": {
      "text/html": [
       "<div>\n",
       "<style>\n",
       "    .dataframe thead tr:only-child th {\n",
       "        text-align: right;\n",
       "    }\n",
       "\n",
       "    .dataframe thead th {\n",
       "        text-align: left;\n",
       "    }\n",
       "\n",
       "    .dataframe tbody tr th {\n",
       "        vertical-align: top;\n",
       "    }\n",
       "</style>\n",
       "<table border=\"1\" class=\"dataframe\">\n",
       "  <thead>\n",
       "    <tr style=\"text-align: right;\">\n",
       "      <th></th>\n",
       "      <th>Store</th>\n",
       "      <th>Dept</th>\n",
       "      <th>Date</th>\n",
       "      <th>IsHoliday_x</th>\n",
       "      <th>Temperature</th>\n",
       "      <th>Fuel_Price</th>\n",
       "      <th>MarkDown1</th>\n",
       "      <th>MarkDown2</th>\n",
       "      <th>MarkDown3</th>\n",
       "      <th>MarkDown4</th>\n",
       "      <th>MarkDown5</th>\n",
       "      <th>CPI</th>\n",
       "      <th>Unemployment</th>\n",
       "      <th>Size</th>\n",
       "    </tr>\n",
       "  </thead>\n",
       "  <tbody>\n",
       "    <tr>\n",
       "      <th>0</th>\n",
       "      <td>1</td>\n",
       "      <td>1</td>\n",
       "      <td>2012-11-02</td>\n",
       "      <td>False</td>\n",
       "      <td>55.32</td>\n",
       "      <td>3.386</td>\n",
       "      <td>6766.44</td>\n",
       "      <td>5147.70</td>\n",
       "      <td>50.82</td>\n",
       "      <td>3639.90</td>\n",
       "      <td>2737.42</td>\n",
       "      <td>223.462779</td>\n",
       "      <td>6.573</td>\n",
       "      <td>151315</td>\n",
       "    </tr>\n",
       "    <tr>\n",
       "      <th>1</th>\n",
       "      <td>1</td>\n",
       "      <td>1</td>\n",
       "      <td>2012-11-09</td>\n",
       "      <td>False</td>\n",
       "      <td>61.24</td>\n",
       "      <td>3.314</td>\n",
       "      <td>11421.32</td>\n",
       "      <td>3370.89</td>\n",
       "      <td>40.28</td>\n",
       "      <td>4646.79</td>\n",
       "      <td>6154.16</td>\n",
       "      <td>223.481307</td>\n",
       "      <td>6.573</td>\n",
       "      <td>151315</td>\n",
       "    </tr>\n",
       "    <tr>\n",
       "      <th>2</th>\n",
       "      <td>1</td>\n",
       "      <td>1</td>\n",
       "      <td>2012-11-16</td>\n",
       "      <td>False</td>\n",
       "      <td>52.92</td>\n",
       "      <td>3.252</td>\n",
       "      <td>9696.28</td>\n",
       "      <td>292.10</td>\n",
       "      <td>103.78</td>\n",
       "      <td>1133.15</td>\n",
       "      <td>6612.69</td>\n",
       "      <td>223.512911</td>\n",
       "      <td>6.573</td>\n",
       "      <td>151315</td>\n",
       "    </tr>\n",
       "    <tr>\n",
       "      <th>3</th>\n",
       "      <td>1</td>\n",
       "      <td>1</td>\n",
       "      <td>2012-11-23</td>\n",
       "      <td>True</td>\n",
       "      <td>56.23</td>\n",
       "      <td>3.211</td>\n",
       "      <td>883.59</td>\n",
       "      <td>4.17</td>\n",
       "      <td>74910.32</td>\n",
       "      <td>209.91</td>\n",
       "      <td>303.32</td>\n",
       "      <td>223.561947</td>\n",
       "      <td>6.573</td>\n",
       "      <td>151315</td>\n",
       "    </tr>\n",
       "    <tr>\n",
       "      <th>4</th>\n",
       "      <td>1</td>\n",
       "      <td>1</td>\n",
       "      <td>2012-11-30</td>\n",
       "      <td>False</td>\n",
       "      <td>52.34</td>\n",
       "      <td>3.207</td>\n",
       "      <td>2460.03</td>\n",
       "      <td>742.59</td>\n",
       "      <td>3838.35</td>\n",
       "      <td>150.57</td>\n",
       "      <td>6966.34</td>\n",
       "      <td>223.610984</td>\n",
       "      <td>6.573</td>\n",
       "      <td>151315</td>\n",
       "    </tr>\n",
       "  </tbody>\n",
       "</table>\n",
       "</div>"
      ],
      "text/plain": [
       "   Store  Dept       Date  IsHoliday_x  Temperature  Fuel_Price  MarkDown1  \\\n",
       "0      1     1 2012-11-02        False        55.32       3.386    6766.44   \n",
       "1      1     1 2012-11-09        False        61.24       3.314   11421.32   \n",
       "2      1     1 2012-11-16        False        52.92       3.252    9696.28   \n",
       "3      1     1 2012-11-23         True        56.23       3.211     883.59   \n",
       "4      1     1 2012-11-30        False        52.34       3.207    2460.03   \n",
       "\n",
       "   MarkDown2  MarkDown3  MarkDown4  MarkDown5         CPI  Unemployment  \\\n",
       "0    5147.70      50.82    3639.90    2737.42  223.462779         6.573   \n",
       "1    3370.89      40.28    4646.79    6154.16  223.481307         6.573   \n",
       "2     292.10     103.78    1133.15    6612.69  223.512911         6.573   \n",
       "3       4.17   74910.32     209.91     303.32  223.561947         6.573   \n",
       "4     742.59    3838.35     150.57    6966.34  223.610984         6.573   \n",
       "\n",
       "     Size  \n",
       "0  151315  \n",
       "1  151315  \n",
       "2  151315  \n",
       "3  151315  \n",
       "4  151315  "
      ]
     },
     "execution_count": 29,
     "metadata": {},
     "output_type": "execute_result"
    }
   ],
   "source": [
    "true_test = pd.merge(pd.merge(pre_test, features, how = 'left',\n",
    "                              left_on = ['Store', 'Date'], right_on = ['Store', 'Date']),\n",
    "                     stores, left_on = ['Store'], right_on = ['Store'])\n",
    "true_test['Date'] = pd.to_datetime(true_test['Date'])\n",
    "true_test = true_test.drop(['IsHoliday_y', 'Type'], 1)\n",
    "true_test = true_test.fillna(true_test.median())\n",
    "true_test.head()"
   ]
  },
  {
   "cell_type": "code",
   "execution_count": 30,
   "metadata": {},
   "outputs": [
    {
     "data": {
      "text/plain": [
       "(115064, 14)"
      ]
     },
     "execution_count": 30,
     "metadata": {},
     "output_type": "execute_result"
    }
   ],
   "source": [
    "true_test.shape"
   ]
  },
  {
   "cell_type": "code",
   "execution_count": 31,
   "metadata": {},
   "outputs": [
    {
     "data": {
      "text/html": [
       "<div>\n",
       "<style>\n",
       "    .dataframe thead tr:only-child th {\n",
       "        text-align: right;\n",
       "    }\n",
       "\n",
       "    .dataframe thead th {\n",
       "        text-align: left;\n",
       "    }\n",
       "\n",
       "    .dataframe tbody tr th {\n",
       "        vertical-align: top;\n",
       "    }\n",
       "</style>\n",
       "<table border=\"1\" class=\"dataframe\">\n",
       "  <thead>\n",
       "    <tr style=\"text-align: right;\">\n",
       "      <th></th>\n",
       "      <th>Store</th>\n",
       "      <th>Dept</th>\n",
       "      <th>IsHoliday_x</th>\n",
       "      <th>Temperature</th>\n",
       "      <th>Fuel_Price</th>\n",
       "      <th>MarkDown1</th>\n",
       "      <th>MarkDown2</th>\n",
       "      <th>MarkDown3</th>\n",
       "      <th>MarkDown4</th>\n",
       "      <th>MarkDown5</th>\n",
       "      <th>CPI</th>\n",
       "      <th>Unemployment</th>\n",
       "      <th>Size</th>\n",
       "    </tr>\n",
       "    <tr>\n",
       "      <th>Date</th>\n",
       "      <th></th>\n",
       "      <th></th>\n",
       "      <th></th>\n",
       "      <th></th>\n",
       "      <th></th>\n",
       "      <th></th>\n",
       "      <th></th>\n",
       "      <th></th>\n",
       "      <th></th>\n",
       "      <th></th>\n",
       "      <th></th>\n",
       "      <th></th>\n",
       "      <th></th>\n",
       "    </tr>\n",
       "  </thead>\n",
       "  <tbody>\n",
       "    <tr>\n",
       "      <th>2012-11-02</th>\n",
       "      <td>1</td>\n",
       "      <td>1</td>\n",
       "      <td>0</td>\n",
       "      <td>55.32</td>\n",
       "      <td>3.386</td>\n",
       "      <td>6766.44</td>\n",
       "      <td>5147.70</td>\n",
       "      <td>50.82</td>\n",
       "      <td>3639.90</td>\n",
       "      <td>2737.42</td>\n",
       "      <td>223.462779</td>\n",
       "      <td>6.573</td>\n",
       "      <td>151315</td>\n",
       "    </tr>\n",
       "    <tr>\n",
       "      <th>2012-11-02</th>\n",
       "      <td>19</td>\n",
       "      <td>10</td>\n",
       "      <td>0</td>\n",
       "      <td>46.81</td>\n",
       "      <td>3.970</td>\n",
       "      <td>11686.96</td>\n",
       "      <td>18053.48</td>\n",
       "      <td>88.94</td>\n",
       "      <td>5484.50</td>\n",
       "      <td>3833.76</td>\n",
       "      <td>138.622710</td>\n",
       "      <td>7.992</td>\n",
       "      <td>203819</td>\n",
       "    </tr>\n",
       "    <tr>\n",
       "      <th>2012-11-02</th>\n",
       "      <td>16</td>\n",
       "      <td>55</td>\n",
       "      <td>0</td>\n",
       "      <td>38.20</td>\n",
       "      <td>3.604</td>\n",
       "      <td>2826.02</td>\n",
       "      <td>984.41</td>\n",
       "      <td>4.46</td>\n",
       "      <td>274.18</td>\n",
       "      <td>1411.99</td>\n",
       "      <td>199.290867</td>\n",
       "      <td>5.847</td>\n",
       "      <td>57197</td>\n",
       "    </tr>\n",
       "    <tr>\n",
       "      <th>2012-11-02</th>\n",
       "      <td>22</td>\n",
       "      <td>18</td>\n",
       "      <td>0</td>\n",
       "      <td>54.55</td>\n",
       "      <td>3.817</td>\n",
       "      <td>8793.36</td>\n",
       "      <td>10347.53</td>\n",
       "      <td>5.62</td>\n",
       "      <td>7350.89</td>\n",
       "      <td>801.32</td>\n",
       "      <td>142.661460</td>\n",
       "      <td>7.543</td>\n",
       "      <td>119557</td>\n",
       "    </tr>\n",
       "    <tr>\n",
       "      <th>2012-11-02</th>\n",
       "      <td>25</td>\n",
       "      <td>16</td>\n",
       "      <td>0</td>\n",
       "      <td>40.83</td>\n",
       "      <td>3.787</td>\n",
       "      <td>12435.08</td>\n",
       "      <td>16493.02</td>\n",
       "      <td>55.19</td>\n",
       "      <td>1165.36</td>\n",
       "      <td>1144.39</td>\n",
       "      <td>216.156711</td>\n",
       "      <td>7.293</td>\n",
       "      <td>128107</td>\n",
       "    </tr>\n",
       "  </tbody>\n",
       "</table>\n",
       "</div>"
      ],
      "text/plain": [
       "            Store  Dept  IsHoliday_x  Temperature  Fuel_Price  MarkDown1  \\\n",
       "Date                                                                       \n",
       "2012-11-02      1     1            0        55.32       3.386    6766.44   \n",
       "2012-11-02     19    10            0        46.81       3.970   11686.96   \n",
       "2012-11-02     16    55            0        38.20       3.604    2826.02   \n",
       "2012-11-02     22    18            0        54.55       3.817    8793.36   \n",
       "2012-11-02     25    16            0        40.83       3.787   12435.08   \n",
       "\n",
       "            MarkDown2  MarkDown3  MarkDown4  MarkDown5         CPI  \\\n",
       "Date                                                                 \n",
       "2012-11-02    5147.70      50.82    3639.90    2737.42  223.462779   \n",
       "2012-11-02   18053.48      88.94    5484.50    3833.76  138.622710   \n",
       "2012-11-02     984.41       4.46     274.18    1411.99  199.290867   \n",
       "2012-11-02   10347.53       5.62    7350.89     801.32  142.661460   \n",
       "2012-11-02   16493.02      55.19    1165.36    1144.39  216.156711   \n",
       "\n",
       "            Unemployment    Size  \n",
       "Date                              \n",
       "2012-11-02         6.573  151315  \n",
       "2012-11-02         7.992  203819  \n",
       "2012-11-02         5.847   57197  \n",
       "2012-11-02         7.543  119557  \n",
       "2012-11-02         7.293  128107  "
      ]
     },
     "execution_count": 31,
     "metadata": {},
     "output_type": "execute_result"
    }
   ],
   "source": [
    "true_test['IsHoliday_x'] = true_test['IsHoliday_x'].astype(int)\n",
    "true_test2 = true_test.sort_values('Date')\n",
    "true_test2 = true_test2.set_index(true_test2['Date'])\n",
    "true_test2 = true_test2.drop('Date',1)\n",
    "true_test2.head()"
   ]
  },
  {
   "cell_type": "code",
   "execution_count": 50,
   "metadata": {
    "collapsed": true
   },
   "outputs": [],
   "source": [
    "values = true_test2.values\n",
    "\n",
    "values = values.astype('float32')\n",
    "# normalize features\n",
    "scaler = MinMaxScaler(feature_range=(0, 1))\n",
    "scaled = scaler.fit_transform(values)\n",
    "# frame as supervised learning\n",
    "reframed = timeseries_to_supervised(scaled, 1)"
   ]
  },
  {
   "cell_type": "code",
   "execution_count": 51,
   "metadata": {
    "collapsed": true
   },
   "outputs": [],
   "source": [
    "fin_test = ArrayIterator(X = reframed)"
   ]
  },
  {
   "cell_type": "code",
   "execution_count": 71,
   "metadata": {},
   "outputs": [
    {
     "data": {
      "text/plain": [
       "array([  262.50112915,  1338.39709473,   791.1350708 , ...,  1940.24291992,\n",
       "        1980.60546875,  3502.6315918 ], dtype=float32)"
      ]
     },
     "execution_count": 71,
     "metadata": {},
     "output_type": "execute_result"
    }
   ],
   "source": [
    "pred = model.get_outputs(fin_test)\n",
    "pred2 = pred.flat[:]\n",
    "pred2"
   ]
  },
  {
   "cell_type": "code",
   "execution_count": 73,
   "metadata": {},
   "outputs": [
    {
     "data": {
      "text/plain": [
       "array(['1_1_2012-11-02', '1_1_2012-11-09', '1_1_2012-11-16', ...,\n",
       "       '45_98_2013-07-12', '45_98_2013-07-19', '45_98_2013-07-26'], dtype=object)"
      ]
     },
     "execution_count": 73,
     "metadata": {},
     "output_type": "execute_result"
    }
   ],
   "source": [
    "sample = pd.read_csv(\"~/Documents/Walmart Data/sampleSubmission.csv\")\n",
    "length = np.array(sample.iloc[:,0])"
   ]
  },
  {
   "cell_type": "code",
   "execution_count": 74,
   "metadata": {
    "collapsed": true
   },
   "outputs": [],
   "source": [
    "fin_df = pd.DataFrame({'Id': length, 'Weekly_Sales': pred2})"
   ]
  },
  {
   "cell_type": "code",
   "execution_count": 78,
   "metadata": {
    "collapsed": true
   },
   "outputs": [],
   "source": [
    "np.savetxt('Neon.csv', X = fin_df, delimiter = ',', header = 'Id,Weekly_Sales', comments = '', fmt = '%s')"
   ]
  },
  {
   "cell_type": "code",
   "execution_count": 56,
   "metadata": {},
   "outputs": [
    {
     "data": {
      "text/plain": [
       "(115064, 26)"
      ]
     },
     "execution_count": 56,
     "metadata": {},
     "output_type": "execute_result"
    }
   ],
   "source": [
    "reframed.shape"
   ]
  },
  {
   "cell_type": "code",
   "execution_count": null,
   "metadata": {
    "collapsed": true
   },
   "outputs": [],
   "source": []
  }
 ],
 "metadata": {
  "kernelspec": {
   "display_name": "Python 3",
   "language": "python",
   "name": "python3"
  },
  "language_info": {
   "codemirror_mode": {
    "name": "ipython",
    "version": 3
   },
   "file_extension": ".py",
   "mimetype": "text/x-python",
   "name": "python",
   "nbconvert_exporter": "python",
   "pygments_lexer": "ipython3",
   "version": "3.6.1"
  }
 },
 "nbformat": 4,
 "nbformat_minor": 2
}
